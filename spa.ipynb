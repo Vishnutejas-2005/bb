{
 "cells": [
  {
   "cell_type": "code",
   "execution_count": 1,
   "id": "00085891",
   "metadata": {},
   "outputs": [],
   "source": [
    "import matplotlib.pyplot as plt\n",
    "import numpy as np\n",
    "import xlrd\n",
    "list_of_period = [5,10,15,20,25,30]\n",
    "list_of_k = [1,1.5,2]"
   ]
  },
  {
   "cell_type": "code",
   "execution_count": 2,
   "id": "32470c6e",
   "metadata": {},
   "outputs": [],
   "source": [
    "# Read the data from the Excel file\n",
    "xls_file = '/home/vishi/bolinger/cumul_ohlc.xls'\n",
    "xls = xlrd.open_workbook(xls_file)\n",
    "sheet = xls.sheet_by_index(0)\n",
    "# Extract the data\n",
    "closing_prices = []\n",
    "for row in range(1, sheet.nrows):\n",
    "    closing_prices.append(sheet.cell_value(row, 4))\n",
    "    \n"
   ]
  },
  {
   "cell_type": "code",
   "execution_count": 3,
   "id": "45e9bf4c",
   "metadata": {},
   "outputs": [],
   "source": [
    "def get_avg_std(prices, period):\n",
    "    avg = np.zeros(len(prices))\n",
    "    std = np.zeros(len(prices))\n",
    "    for i in range(period, len(prices)):\n",
    "        avg[i] = np.mean(prices[i-period:i])\n",
    "        # sample std\n",
    "        std[i] = np.std(prices[i-period:i], ddof=1)\n",
    "    return avg, std\n",
    "\n"
   ]
  },
  {
   "cell_type": "code",
   "execution_count": 4,
   "id": "bb992e79",
   "metadata": {},
   "outputs": [],
   "source": [
    "def get_bollinger_bands(prices, period, k):\n",
    "    avg, std = get_avg_std(prices, period)\n",
    "    upper_band = avg + k * std\n",
    "    lower_band = avg - k * std\n",
    "    return avg, upper_band, lower_band\n",
    "def profit_basic(prices,avg, upper_band, lower_band):\n",
    "    flag = 0\n",
    "    profit = 0\n",
    "    current_price = 0\n",
    "    list_of_profit = []\n",
    "    for i in range(len(prices)):\n",
    "        if flag == 0:\n",
    "            if prices[i] < lower_band[i]:\n",
    "                flag = 1\n",
    "                current_price = prices[i]\n",
    "            elif prices[i] > upper_band[i]:\n",
    "                flag = -1\n",
    "                current_price = prices[i]\n",
    "        elif flag == 1:\n",
    "            if prices[i] > avg[i]:\n",
    "                flag = 0\n",
    "                profit += prices[i] - current_price\n",
    "        elif flag == -1:\n",
    "            if prices[i] < avg[i]:\n",
    "                flag = 0\n",
    "                profit += current_price - prices[i]\n",
    "        list_of_profit.append(profit)\n",
    "    if flag == 1:\n",
    "        profit += prices[-1] - current_price\n",
    "    elif flag == -1:\n",
    "        profit += current_price - prices[-1]\n",
    "    list_of_profit.append(profit)\n",
    "    return list_of_profit\n",
    "\n",
    "def plot_profit(list_of_profit, period, k):\n",
    "    plt.plot(list_of_profit)\n",
    "    plt.title(f'Profit with period {period} and k {k}')\n",
    "    plt.xlabel('Time')\n",
    "    plt.ylabel('Profit')\n",
    "    plt.show()\n",
    "\n",
    "list_of_profits_of_diff_strategies = []\n",
    "for period in list_of_period:\n",
    "    list_to_append = []\n",
    "    for k in list_of_k:\n",
    "        avg, upper_band, lower_band = get_bollinger_bands(closing_prices, period, k)\n",
    "        list_of_profit = profit_basic(closing_prices, avg, upper_band, lower_band)\n",
    "        # plot_profit(list_of_profit, period, k)\n",
    "        list_to_append.append(list_of_profit)\n",
    "    list_of_profits_of_diff_strategies.append(list_to_append)\n",
    "\n",
    "\n",
    "\n",
    "    \n",
    "    \n",
    "    "
   ]
  },
  {
   "cell_type": "code",
   "execution_count": 8,
   "id": "4f676313",
   "metadata": {},
   "outputs": [],
   "source": [
    "reshaped_list_of_profits = []\n",
    "for i in range(3):\n",
    "    for j in range(6):\n",
    "        reshaped_list_of_profits.append(list_of_profits_of_diff_strategies[j][i])\n",
    "\n",
    "        "
   ]
  },
  {
   "cell_type": "code",
   "execution_count": null,
   "id": "fa9e6f27",
   "metadata": {},
   "outputs": [
    {
     "name": "stdout",
     "output_type": "stream",
     "text": [
      "23625\n",
      "23626\n"
     ]
    }
   ],
   "source": [
    "# find the returns of every minute of every strategy\n",
    "list_of_returns = []\n",
    "for i in range(len(reshaped_list_of_profits)):\n",
    "    list_of_returns.append(np.diff(reshaped_list_of_profits[i]))\n",
    "\n"
   ]
  },
  {
   "cell_type": "code",
   "execution_count": null,
   "id": "306825c6",
   "metadata": {},
   "outputs": [
    {
     "name": "stdout",
     "output_type": "stream",
     "text": [
      "pvalues lower         0.009\n",
      "consistent    0.009\n",
      "upper         0.009\n",
      "dtype: float64\n"
     ]
    }
   ],
   "source": [
    "# now i want to use test for superior predictability ability on all stratergies \n",
    "\n",
    "from arch.bootstrap import SPA\n",
    "\n",
    "# create a list of all the returns\n",
    "list_of_all_returns_np = np.array(list_of_returns).T\n",
    "\n",
    "benchmark_returns = list_of_all_returns_np[:, 0]\n",
    "stratergy_returns = list_of_all_returns_np[:, 1:]\n",
    "\n",
    "diffs = stratergy_returns - benchmark_returns[:, None]\n",
    "\n",
    "benchmark_losses = -benchmark_returns\n",
    "stratergy_losses = -stratergy_returns\n",
    "\n",
    "spa = SPA(benchmark=benchmark_losses,\n",
    "    models=stratergy_losses,\n",
    "    reps=1000,\n",
    "    block_size=100,  \n",
    "    bootstrap=\"stationary\",\n",
    "    studentize=True,\n",
    "    nested=False,\n",
    "    seed=42\n",
    ")\n",
    "spa.compute()\n",
    "\n",
    "\n"
   ]
  },
  {
   "cell_type": "code",
   "execution_count": 23,
   "id": "9f7a1f50",
   "metadata": {},
   "outputs": [
    {
     "name": "stdout",
     "output_type": "stream",
     "text": [
      "\n",
      "Better models than benchmark (strategy 0):\n",
      "[ 4  8  9 10 14 15 16]\n"
     ]
    }
   ],
   "source": [
    "print(\"\\nBetter models than benchmark (strategy 0):\")\n",
    "print(spa.better_models(pvalue=0.05, pvalue_type=\"consistent\"))\n"
   ]
  },
  {
   "cell_type": "code",
   "execution_count": 40,
   "id": "892e61ce",
   "metadata": {},
   "outputs": [
    {
     "name": "stdout",
     "output_type": "stream",
     "text": [
      "\n",
      "Better models than benchmark (strategy 0):\n",
      "[ 4  8  9 10 14 15 16]\n",
      "\n",
      "Better models than benchmark (strategy 1):\n",
      "[]\n",
      "\n",
      "Better models than benchmark (strategy 2):\n",
      "[]\n",
      "\n",
      "Better models than benchmark (strategy 3):\n",
      "[]\n",
      "\n",
      "Better models than benchmark (strategy 4):\n",
      "[]\n",
      "\n",
      "Better models than benchmark (strategy 5):\n",
      "[]\n",
      "\n",
      "Better models than benchmark (strategy 6):\n",
      "[ 9 10 14 15 16]\n",
      "\n",
      "Better models than benchmark (strategy 7):\n",
      "[]\n",
      "\n",
      "Better models than benchmark (strategy 8):\n",
      "[]\n",
      "\n",
      "Better models than benchmark (strategy 9):\n",
      "[]\n",
      "\n",
      "Better models than benchmark (strategy 10):\n",
      "[]\n",
      "\n",
      "Better models than benchmark (strategy 11):\n",
      "[]\n",
      "\n",
      "Better models than benchmark (strategy 12):\n",
      "[10 11 14 15 16]\n",
      "\n",
      "Better models than benchmark (strategy 13):\n",
      "[]\n",
      "\n",
      "Better models than benchmark (strategy 14):\n",
      "[]\n",
      "\n",
      "Better models than benchmark (strategy 15):\n",
      "[]\n",
      "\n",
      "Better models than benchmark (strategy 16):\n",
      "[]\n",
      "\n",
      "Better models than benchmark (strategy 17):\n",
      "[]\n"
     ]
    }
   ],
   "source": [
    "def better_model_than_benchmark(i,list_of_all_returns_np):\n",
    "    benchmark_returns = list_of_all_returns_np[:, i]\n",
    "    # everything else\n",
    "    stratergy_returns = np.hstack((list_of_all_returns_np[:, :i], list_of_all_returns_np[:, i+1:]))\n",
    "    benchmark_losses = -benchmark_returns\n",
    "    stratergy_losses = -stratergy_returns\n",
    "    spa = SPA(benchmark=benchmark_losses,\n",
    "        models=stratergy_losses,\n",
    "        reps=1000,\n",
    "        block_size=100,  \n",
    "        bootstrap=\"stationary\",\n",
    "        studentize=True,\n",
    "        nested=False,\n",
    "        seed=42\n",
    "    )\n",
    "    spa.compute()\n",
    "    return spa\n",
    "\n",
    "for i in range(len(reshaped_list_of_profits)):\n",
    "    spa = better_model_than_benchmark(i, list_of_all_returns_np)\n",
    "    print(f\"\\nBetter models than benchmark (strategy {i}):\")\n",
    "    print(spa.better_models(pvalue=0.05, pvalue_type=\"consistent\"))\n",
    "    "
   ]
  },
  {
   "cell_type": "code",
   "execution_count": 38,
   "id": "2462fccf",
   "metadata": {},
   "outputs": [
    {
     "name": "stdout",
     "output_type": "stream",
     "text": [
      "\n",
      "Better models than benchmark (strategy 0):\n",
      "[]\n",
      "\n",
      "Better models than benchmark (strategy 1):\n",
      "[]\n",
      "\n",
      "Better models than benchmark (strategy 2):\n",
      "[]\n",
      "\n",
      "Better models than benchmark (strategy 3):\n",
      "[]\n",
      "\n",
      "Better models than benchmark (strategy 4):\n",
      "[]\n",
      "\n",
      "Better models than benchmark (strategy 5):\n",
      "[]\n",
      "\n",
      "Better models than benchmark (strategy 6):\n",
      "[]\n",
      "\n",
      "Better models than benchmark (strategy 7):\n",
      "[]\n",
      "\n",
      "Better models than benchmark (strategy 8):\n",
      "[]\n"
     ]
    },
    {
     "ename": "KeyboardInterrupt",
     "evalue": "",
     "output_type": "error",
     "traceback": [
      "\u001b[31m---------------------------------------------------------------------------\u001b[39m",
      "\u001b[31mKeyboardInterrupt\u001b[39m                         Traceback (most recent call last)",
      "\u001b[36mCell\u001b[39m\u001b[36m \u001b[39m\u001b[32mIn[38]\u001b[39m\u001b[32m, line 21\u001b[39m\n\u001b[32m     18\u001b[39m     \u001b[38;5;28;01mreturn\u001b[39;00m spa\n\u001b[32m     20\u001b[39m \u001b[38;5;28;01mfor\u001b[39;00m i \u001b[38;5;129;01min\u001b[39;00m \u001b[38;5;28mrange\u001b[39m(\u001b[38;5;28mlen\u001b[39m(reshaped_list_of_profits)):\n\u001b[32m---> \u001b[39m\u001b[32m21\u001b[39m     \u001b[43mbetter_model_than_benchmark_list\u001b[49m\u001b[43m(\u001b[49m\u001b[43mi\u001b[49m\u001b[43m,\u001b[49m\u001b[43m \u001b[49m\u001b[43mlist_of_returns\u001b[49m\u001b[43m)\u001b[49m\n\u001b[32m     22\u001b[39m     \u001b[38;5;28mprint\u001b[39m(\u001b[33mf\u001b[39m\u001b[33m\"\u001b[39m\u001b[38;5;130;01m\\n\u001b[39;00m\u001b[33mBetter models than benchmark (strategy \u001b[39m\u001b[38;5;132;01m{\u001b[39;00mi\u001b[38;5;132;01m}\u001b[39;00m\u001b[33m):\u001b[39m\u001b[33m\"\u001b[39m)\n\u001b[32m     23\u001b[39m     \u001b[38;5;28mprint\u001b[39m(spa.better_models(pvalue=\u001b[32m0.05\u001b[39m, pvalue_type=\u001b[33m\"\u001b[39m\u001b[33mconsistent\u001b[39m\u001b[33m\"\u001b[39m))\n",
      "\u001b[36mCell\u001b[39m\u001b[36m \u001b[39m\u001b[32mIn[38]\u001b[39m\u001b[32m, line 17\u001b[39m, in \u001b[36mbetter_model_than_benchmark_list\u001b[39m\u001b[34m(i, list_of_returns)\u001b[39m\n\u001b[32m      7\u001b[39m stratergy_losses = -stratergy_returns\n\u001b[32m      8\u001b[39m spa = SPA(benchmark=benchmark_losses,\n\u001b[32m      9\u001b[39m     models=stratergy_losses,\n\u001b[32m     10\u001b[39m     reps=\u001b[32m1000\u001b[39m,\n\u001b[32m   (...)\u001b[39m\u001b[32m     15\u001b[39m     seed=\u001b[32m42\u001b[39m\n\u001b[32m     16\u001b[39m )\n\u001b[32m---> \u001b[39m\u001b[32m17\u001b[39m \u001b[43mspa\u001b[49m\u001b[43m.\u001b[49m\u001b[43mcompute\u001b[49m\u001b[43m(\u001b[49m\u001b[43m)\u001b[49m\n\u001b[32m     18\u001b[39m \u001b[38;5;28;01mreturn\u001b[39;00m spa\n",
      "\u001b[36mFile \u001b[39m\u001b[32m~/bolinger/.venv/lib/python3.13/site-packages/arch/bootstrap/multiple_comparison.py:660\u001b[39m, in \u001b[36mSPA.compute\u001b[39m\u001b[34m(self)\u001b[39m\n\u001b[32m    657\u001b[39m \u001b[38;5;66;03m# Plan\u001b[39;00m\n\u001b[32m    658\u001b[39m \u001b[38;5;66;03m# 1. Compute variances\u001b[39;00m\n\u001b[32m    659\u001b[39m \u001b[38;5;28;01mif\u001b[39;00m \u001b[38;5;28mself\u001b[39m._simulated_vals \u001b[38;5;129;01mis\u001b[39;00m \u001b[38;5;28;01mNone\u001b[39;00m:\n\u001b[32m--> \u001b[39m\u001b[32m660\u001b[39m     \u001b[38;5;28;43mself\u001b[39;49m\u001b[43m.\u001b[49m\u001b[43m_simulate_values\u001b[49m\u001b[43m(\u001b[49m\u001b[43m)\u001b[49m\n\u001b[32m    661\u001b[39m simulated_vals = \u001b[38;5;28mself\u001b[39m._simulated_vals\n\u001b[32m    662\u001b[39m \u001b[38;5;66;03m# Use subset if needed\u001b[39;00m\n",
      "\u001b[36mFile \u001b[39m\u001b[32m~/bolinger/.venv/lib/python3.13/site-packages/arch/bootstrap/multiple_comparison.py:675\u001b[39m, in \u001b[36mSPA._simulate_values\u001b[39m\u001b[34m(self)\u001b[39m\n\u001b[32m    674\u001b[39m \u001b[38;5;28;01mdef\u001b[39;00m\u001b[38;5;250m \u001b[39m\u001b[34m_simulate_values\u001b[39m(\u001b[38;5;28mself\u001b[39m) -> \u001b[38;5;28;01mNone\u001b[39;00m:\n\u001b[32m--> \u001b[39m\u001b[32m675\u001b[39m     \u001b[38;5;28;43mself\u001b[39;49m\u001b[43m.\u001b[49m\u001b[43m_compute_variance\u001b[49m\u001b[43m(\u001b[49m\u001b[43m)\u001b[49m\n\u001b[32m    676\u001b[39m     \u001b[38;5;66;03m# 2. Compute invalid columns using criteria for consistent\u001b[39;00m\n\u001b[32m    677\u001b[39m     \u001b[38;5;28mself\u001b[39m._valid_columns = \u001b[38;5;28mself\u001b[39m._check_column_validity()\n",
      "\u001b[36mFile \u001b[39m\u001b[32m~/bolinger/.venv/lib/python3.13/site-packages/arch/bootstrap/multiple_comparison.py:720\u001b[39m, in \u001b[36mSPA._compute_variance\u001b[39m\u001b[34m(self)\u001b[39m\n\u001b[32m    715\u001b[39m     \u001b[38;5;28;01mfor\u001b[39;00m i \u001b[38;5;129;01min\u001b[39;00m \u001b[38;5;28mrange\u001b[39m(\u001b[32m1\u001b[39m, t):\n\u001b[32m    716\u001b[39m         kappa = ((\u001b[32m1.0\u001b[39m - (i / t)) * ((\u001b[32m1\u001b[39m - p) ** i)) + (\n\u001b[32m    717\u001b[39m             (i / t) * ((\u001b[32m1\u001b[39m - p) ** (t - i))\n\u001b[32m    718\u001b[39m         )\n\u001b[32m    719\u001b[39m         variances += (\n\u001b[32m--> \u001b[39m\u001b[32m720\u001b[39m             \u001b[32m2\u001b[39m * kappa * \u001b[43mnp\u001b[49m\u001b[43m.\u001b[49m\u001b[43msum\u001b[49m\u001b[43m(\u001b[49m\u001b[43mdemeaned\u001b[49m\u001b[43m[\u001b[49m\u001b[43m:\u001b[49m\u001b[43m \u001b[49m\u001b[43m(\u001b[49m\u001b[43mt\u001b[49m\u001b[43m \u001b[49m\u001b[43m-\u001b[49m\u001b[43m \u001b[49m\u001b[43mi\u001b[49m\u001b[43m)\u001b[49m\u001b[43m,\u001b[49m\u001b[43m \u001b[49m\u001b[43m:\u001b[49m\u001b[43m]\u001b[49m\u001b[43m \u001b[49m\u001b[43m*\u001b[49m\u001b[43m \u001b[49m\u001b[43mdemeaned\u001b[49m\u001b[43m[\u001b[49m\u001b[43mi\u001b[49m\u001b[43m:\u001b[49m\u001b[43m,\u001b[49m\u001b[43m \u001b[49m\u001b[43m:\u001b[49m\u001b[43m]\u001b[49m\u001b[43m,\u001b[49m\u001b[43m \u001b[49m\u001b[32;43m0\u001b[39;49m\u001b[43m)\u001b[49m / t\n\u001b[32m    721\u001b[39m         )\n\u001b[32m    722\u001b[39m \u001b[38;5;28mself\u001b[39m._loss_diff_var = cast(np.ndarray, variances)\n",
      "\u001b[36mFile \u001b[39m\u001b[32m~/bolinger/.venv/lib/python3.13/site-packages/numpy/_core/fromnumeric.py:2466\u001b[39m, in \u001b[36msum\u001b[39m\u001b[34m(a, axis, dtype, out, keepdims, initial, where)\u001b[39m\n\u001b[32m   2463\u001b[39m         \u001b[38;5;28;01mreturn\u001b[39;00m out\n\u001b[32m   2464\u001b[39m     \u001b[38;5;28;01mreturn\u001b[39;00m res\n\u001b[32m-> \u001b[39m\u001b[32m2466\u001b[39m \u001b[38;5;28;01mreturn\u001b[39;00m \u001b[43m_wrapreduction\u001b[49m\u001b[43m(\u001b[49m\n\u001b[32m   2467\u001b[39m \u001b[43m    \u001b[49m\u001b[43ma\u001b[49m\u001b[43m,\u001b[49m\u001b[43m \u001b[49m\u001b[43mnp\u001b[49m\u001b[43m.\u001b[49m\u001b[43madd\u001b[49m\u001b[43m,\u001b[49m\u001b[43m \u001b[49m\u001b[33;43m'\u001b[39;49m\u001b[33;43msum\u001b[39;49m\u001b[33;43m'\u001b[39;49m\u001b[43m,\u001b[49m\u001b[43m \u001b[49m\u001b[43maxis\u001b[49m\u001b[43m,\u001b[49m\u001b[43m \u001b[49m\u001b[43mdtype\u001b[49m\u001b[43m,\u001b[49m\u001b[43m \u001b[49m\u001b[43mout\u001b[49m\u001b[43m,\u001b[49m\n\u001b[32m   2468\u001b[39m \u001b[43m    \u001b[49m\u001b[43mkeepdims\u001b[49m\u001b[43m=\u001b[49m\u001b[43mkeepdims\u001b[49m\u001b[43m,\u001b[49m\u001b[43m \u001b[49m\u001b[43minitial\u001b[49m\u001b[43m=\u001b[49m\u001b[43minitial\u001b[49m\u001b[43m,\u001b[49m\u001b[43m \u001b[49m\u001b[43mwhere\u001b[49m\u001b[43m=\u001b[49m\u001b[43mwhere\u001b[49m\n\u001b[32m   2469\u001b[39m \u001b[43m\u001b[49m\u001b[43m)\u001b[49m\n",
      "\u001b[36mFile \u001b[39m\u001b[32m~/bolinger/.venv/lib/python3.13/site-packages/numpy/_core/fromnumeric.py:86\u001b[39m, in \u001b[36m_wrapreduction\u001b[39m\u001b[34m(obj, ufunc, method, axis, dtype, out, **kwargs)\u001b[39m\n\u001b[32m     83\u001b[39m         \u001b[38;5;28;01melse\u001b[39;00m:\n\u001b[32m     84\u001b[39m             \u001b[38;5;28;01mreturn\u001b[39;00m reduction(axis=axis, out=out, **passkwargs)\n\u001b[32m---> \u001b[39m\u001b[32m86\u001b[39m \u001b[38;5;28;01mreturn\u001b[39;00m \u001b[43mufunc\u001b[49m\u001b[43m.\u001b[49m\u001b[43mreduce\u001b[49m\u001b[43m(\u001b[49m\u001b[43mobj\u001b[49m\u001b[43m,\u001b[49m\u001b[43m \u001b[49m\u001b[43maxis\u001b[49m\u001b[43m,\u001b[49m\u001b[43m \u001b[49m\u001b[43mdtype\u001b[49m\u001b[43m,\u001b[49m\u001b[43m \u001b[49m\u001b[43mout\u001b[49m\u001b[43m,\u001b[49m\u001b[43m \u001b[49m\u001b[43m*\u001b[49m\u001b[43m*\u001b[49m\u001b[43mpasskwargs\u001b[49m\u001b[43m)\u001b[49m\n",
      "\u001b[31mKeyboardInterrupt\u001b[39m: "
     ]
    }
   ],
   "source": [
    "def better_model_than_benchmark_list(i, list_of_returns):\n",
    "    benchmark_returns = np.array(list_of_returns[i]).T\n",
    "    # everything else\n",
    "    stratergy_returns =np.array( list_of_returns[:i] + list_of_returns[i+1:]).T\n",
    "    \n",
    "    benchmark_losses = -benchmark_returns\n",
    "    stratergy_losses = -stratergy_returns\n",
    "    spa = SPA(benchmark=benchmark_losses,\n",
    "        models=stratergy_losses,\n",
    "        reps=1000,\n",
    "        block_size=100,  \n",
    "        bootstrap=\"stationary\",\n",
    "        studentize=True,\n",
    "        nested=False,\n",
    "        seed=42\n",
    "    )\n",
    "    spa.compute()\n",
    "    return spa\n",
    "\n",
    "for i in range(len(reshaped_list_of_profits)):\n",
    "    better_model_than_benchmark_list(i, list_of_returns)\n",
    "    print(f\"\\nBetter models than benchmark (strategy {i}):\")\n",
    "    print(spa.better_models(pvalue=0.05, pvalue_type=\"consistent\"))\n",
    "\n"
   ]
  }
 ],
 "metadata": {
  "kernelspec": {
   "display_name": ".venv",
   "language": "python",
   "name": "python3"
  },
  "language_info": {
   "codemirror_mode": {
    "name": "ipython",
    "version": 3
   },
   "file_extension": ".py",
   "mimetype": "text/x-python",
   "name": "python",
   "nbconvert_exporter": "python",
   "pygments_lexer": "ipython3",
   "version": "3.13.0"
  }
 },
 "nbformat": 4,
 "nbformat_minor": 5
}
