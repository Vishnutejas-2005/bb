{
 "cells": [
  {
   "cell_type": "code",
   "execution_count": null,
   "id": "e453e88d",
   "metadata": {},
   "outputs": [],
   "source": []
  },
  {
   "cell_type": "code",
   "execution_count": 2,
   "id": "98b688e3",
   "metadata": {},
   "outputs": [],
   "source": [
    "import matplotlib.pyplot as plt\n",
    "import numpy as np\n",
    "import xlrd\n",
    "list_of_period = [5,10,15,20,25,30]\n",
    "list_of_k = [1,1.5,2]"
   ]
  },
  {
   "cell_type": "code",
   "execution_count": 3,
   "id": "bb3a224b",
   "metadata": {},
   "outputs": [],
   "source": [
    "# Read the data from the Excel file\n",
    "xls_file = '/home/vishi/bolinger/cumul_ohlc.xls'\n",
    "xls = xlrd.open_workbook(xls_file)\n",
    "sheet = xls.sheet_by_index(0)\n",
    "# Extract the data\n",
    "closing_prices = []\n",
    "for row in range(1, sheet.nrows):\n",
    "    closing_prices.append(sheet.cell_value(row, 4))\n",
    "    \n"
   ]
  },
  {
   "cell_type": "code",
   "execution_count": 4,
   "id": "40c67909",
   "metadata": {},
   "outputs": [],
   "source": [
    "def get_avg_std(prices, period):\n",
    "    avg = np.zeros(len(prices))\n",
    "    std = np.zeros(len(prices))\n",
    "    for i in range(period, len(prices)):\n",
    "        avg[i] = np.mean(prices[i-period:i])\n",
    "        # sample std\n",
    "        std[i] = np.std(prices[i-period:i], ddof=1)\n",
    "    return avg, std\n",
    "\n"
   ]
  },
  {
   "cell_type": "code",
   "execution_count": 5,
   "id": "96a48360",
   "metadata": {},
   "outputs": [],
   "source": [
    "def get_bollinger_bands(prices, period, k):\n",
    "    avg, std = get_avg_std(prices, period)\n",
    "    upper_band = avg + k * std\n",
    "    lower_band = avg - k * std\n",
    "    return avg, upper_band, lower_band\n",
    "def profit_basic(prices,avg, upper_band, lower_band):\n",
    "    flag = 0\n",
    "    profit = 0\n",
    "    current_price = 0\n",
    "    list_of_profit = []\n",
    "    for i in range(len(prices)):\n",
    "        if flag == 0:\n",
    "            if prices[i] < lower_band[i]:\n",
    "                flag = 1\n",
    "                current_price = prices[i]\n",
    "            elif prices[i] > upper_band[i]:\n",
    "                flag = -1\n",
    "                current_price = prices[i]\n",
    "        elif flag == 1:\n",
    "            if prices[i] > avg[i]:\n",
    "                flag = 0\n",
    "                profit += prices[i] - current_price\n",
    "        elif flag == -1:\n",
    "            if prices[i] < avg[i]:\n",
    "                flag = 0\n",
    "                profit += current_price - prices[i]\n",
    "        list_of_profit.append(profit)\n",
    "    if flag == 1:\n",
    "        profit += prices[-1] - current_price\n",
    "    elif flag == -1:\n",
    "        profit += current_price - prices[-1]\n",
    "    list_of_profit.append(profit)\n",
    "    return list_of_profit\n",
    "\n",
    "def plot_profit(list_of_profit, period, k):\n",
    "    plt.plot(list_of_profit)\n",
    "    plt.title(f'Profit with period {period} and k {k}')\n",
    "    plt.xlabel('Time')\n",
    "    plt.ylabel('Profit')\n",
    "    plt.show()\n",
    "\n",
    "list_of_profits_of_diff_strategies = []\n",
    "for period in list_of_period:\n",
    "    list_to_append = []\n",
    "    for k in list_of_k:\n",
    "        avg, upper_band, lower_band = get_bollinger_bands(closing_prices, period, k)\n",
    "        list_of_profit = profit_basic(closing_prices, avg, upper_band, lower_band)\n",
    "        # plot_profit(list_of_profit, period, k)\n",
    "        list_to_append.append(list_of_profit)\n",
    "    list_of_profits_of_diff_strategies.append(list_to_append)\n",
    "\n",
    "\n",
    "\n",
    "    \n",
    "    \n",
    "    "
   ]
  },
  {
   "cell_type": "code",
   "execution_count": null,
   "id": "245dff5c",
   "metadata": {},
   "outputs": [
    {
     "name": "stdout",
     "output_type": "stream",
     "text": [
      "(18, 23626)\n"
     ]
    }
   ],
   "source": [
    "reshaped_list_of_profits = []\n",
    "for i in range(3):\n",
    "    for j in range(6):\n",
    "        reshaped_list_of_profits.append(list_of_profits_of_diff_strategies[j][i])\n",
    "\n",
    "        "
   ]
  },
  {
   "cell_type": "code",
   "execution_count": 13,
   "id": "3c23d01f",
   "metadata": {},
   "outputs": [
    {
     "name": "stdout",
     "output_type": "stream",
     "text": [
      "list_of_better_profits_a_more_b\n",
      "[(1, 6), (1, 12), (2, 3), (2, 4), (2, 6), (2, 7), (2, 8), (2, 12), (2, 13), (3, 6), (3, 12), (4, 6), (4, 7), (4, 12), (4, 13), (5, 6), (5, 7), (5, 8), (5, 9), (5, 12), (5, 13), (5, 14), (7, 12), (7, 13), (8, 12), (8, 13), (9, 12), (9, 13), (10, 12), (10, 13), (10, 14), (11, 12), (11, 13), (11, 14), (15, 17)]\n",
      "list_of_better_profits_b_more_a\n",
      "[(0, 1), (0, 2), (0, 3), (0, 4), (0, 5), (0, 7), (0, 8), (0, 9), (0, 10), (0, 11), (0, 12), (0, 13), (0, 14), (0, 15), (0, 16), (0, 17), (1, 2), (1, 3), (1, 4), (1, 5), (1, 7), (1, 8), (1, 9), (1, 10), (1, 11), (1, 14), (1, 15), (1, 16), (1, 17), (2, 5), (2, 10), (2, 11), (2, 15), (2, 16), (2, 17), (3, 4), (3, 5), (3, 8), (3, 9), (3, 10), (3, 11), (3, 14), (3, 15), (3, 16), (3, 17), (4, 5), (4, 8), (4, 9), (4, 10), (4, 11), (4, 14), (4, 15), (4, 16), (4, 17), (5, 11), (5, 15), (5, 16), (5, 17), (6, 7), (6, 8), (6, 9), (6, 10), (6, 11), (6, 13), (6, 14), (6, 15), (6, 16), (6, 17), (7, 8), (7, 9), (7, 10), (7, 11), (7, 14), (7, 15), (7, 16), (7, 17), (8, 9), (8, 10), (8, 11), (8, 14), (8, 15), (8, 16), (8, 17), (9, 10), (9, 11), (9, 15), (9, 16), (9, 17), (10, 15), (10, 16), (11, 15), (12, 13), (12, 14), (12, 15), (12, 16), (12, 17), (13, 14), (13, 15), (13, 16), (13, 17), (14, 15), (14, 16), (14, 17)]\n",
      "list_of_cant_decide\n",
      "[(0, 6), (1, 13), (2, 9), (2, 14), (3, 7), (3, 13), (5, 10), (6, 12), (9, 14), (10, 11), (10, 17), (11, 16), (11, 17), (15, 16), (16, 17)]\n",
      "153\n"
     ]
    }
   ],
   "source": [
    "# i want to check the hypothesis that which value of period and k gives the best profit\n",
    "# i will sample out the mins and then i want to take those profit at those days and run a hypothesis test \n",
    "# then check if the profit is statistically significant\n",
    "list_of_better_profits_a_more_b = [] #(a,b)\n",
    "list_of_better_profits_b_more_a = []\n",
    "list_of_cant_decide = []\n",
    "# sampling the mins\n",
    "import random\n",
    "from scipy import stats\n",
    "\n",
    "def sample_mins(lenght):\n",
    "    # sample randome ints in range of 0 to lenght\n",
    "    list_of_mins = []\n",
    "    for i in range(100):\n",
    "        rand = random.randint(0, lenght-1)\n",
    "        list_of_mins.append(rand)\n",
    "    return list_of_mins\n",
    "\n",
    "def hypothesis_test(i,j,reshaped_list_of_profits, list_of_mins):\n",
    "    # get the profits at the sampled mins\n",
    "    profits_a = []\n",
    "    profits_b = []\n",
    "    for k in list_of_mins:\n",
    "        profits_a.append(reshaped_list_of_profits[i][k])\n",
    "        profits_b.append(reshaped_list_of_profits[j][k])\n",
    "    # run a t test\n",
    "    \n",
    "    t_stat, p_value = stats.ttest_ind(profits_a, profits_b)\n",
    "    if p_value < 0.05:\n",
    "        if np.mean(profits_a) > np.mean(profits_b):\n",
    "            list_of_better_profits_a_more_b.append((i,j))\n",
    "        else:\n",
    "            list_of_better_profits_b_more_a.append((i,j))\n",
    "    else:\n",
    "        list_of_cant_decide.append((i,j))\n",
    "    \n",
    "\n",
    "for i in range(len(reshaped_list_of_profits)):\n",
    "    for j in range(i+1, len(reshaped_list_of_profits)):\n",
    "        list_of_mins = sample_mins(len(reshaped_list_of_profits[0]))\n",
    "        hypothesis_test(i,j,reshaped_list_of_profits, list_of_mins)\n",
    "print(\"list_of_better_profits_a_more_b\")\n",
    "print(list_of_better_profits_a_more_b)\n",
    "print(\"list_of_better_profits_b_more_a\")\n",
    "print(list_of_better_profits_b_more_a)\n",
    "print(\"list_of_cant_decide\")\n",
    "print(list_of_cant_decide)\n",
    "\n",
    "print(len(list_of_better_profits_a_more_b)+len(list_of_better_profits_b_more_a)+len(list_of_cant_decide))\n",
    "\n"
   ]
  }
 ],
 "metadata": {
  "kernelspec": {
   "display_name": ".venv",
   "language": "python",
   "name": "python3"
  },
  "language_info": {
   "codemirror_mode": {
    "name": "ipython",
    "version": 3
   },
   "file_extension": ".py",
   "mimetype": "text/x-python",
   "name": "python",
   "nbconvert_exporter": "python",
   "pygments_lexer": "ipython3",
   "version": "3.13.0"
  }
 },
 "nbformat": 4,
 "nbformat_minor": 5
}
