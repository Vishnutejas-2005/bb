{
 "cells": [
  {
   "cell_type": "code",
   "execution_count": 1,
   "id": "414a991e",
   "metadata": {},
   "outputs": [],
   "source": [
    "import matplotlib.pyplot as plt\n",
    "import numpy as np\n",
    "import xlrd\n",
    "from arch.bootstrap import SPA\n",
    "\n",
    "list_of_period = [5,10,15,20,25,30]\n",
    "list_of_k = [1,1.5,2]"
   ]
  },
  {
   "cell_type": "code",
   "execution_count": 2,
   "id": "f441889f",
   "metadata": {},
   "outputs": [],
   "source": [
    "# Read the data from the Excel file\n",
    "xls_file = '/home/vishi/bolinger/cumul_ohlc.xls'\n",
    "xls = xlrd.open_workbook(xls_file)\n",
    "sheet = xls.sheet_by_index(0)\n",
    "# Extract the data\n",
    "closing_prices = []\n",
    "for row in range(1, sheet.nrows):\n",
    "    closing_prices.append(sheet.cell_value(row, 4))\n",
    "    "
   ]
  },
  {
   "cell_type": "code",
   "execution_count": 14,
   "id": "f89f1ca3",
   "metadata": {},
   "outputs": [],
   "source": [
    "def get_avg_std(prices, period):\n",
    "    avg = np.zeros(len(prices))\n",
    "    std = np.zeros(len(prices))\n",
    "    for i in range(period, len(prices)):\n",
    "        avg[i] = np.mean(prices[i-period:i])\n",
    "        # sample std\n",
    "        std[i] = np.std(prices[i-period:i], ddof=1)\n",
    "    return avg, std\n",
    "\n",
    "\n",
    "def get_bollinger_bands(prices, period, k):\n",
    "    avg, std = get_avg_std(prices, period)\n",
    "    upper_band = avg + k * std\n",
    "    lower_band = avg - k * std\n",
    "    return avg, upper_band, lower_band\n",
    "def profit_basic(prices,avg, upper_band, lower_band):\n",
    "    flag = 0\n",
    "    profit = 0\n",
    "    current_price = 0\n",
    "    list_of_profit = []\n",
    "    for i in range(len(prices)):\n",
    "        if flag == 0:\n",
    "            if prices[i] < lower_band[i]:\n",
    "                flag = 1\n",
    "                current_price = prices[i]\n",
    "            elif prices[i] > upper_band[i]:\n",
    "                flag = -1\n",
    "                current_price = prices[i]\n",
    "        elif flag == 1:\n",
    "            if prices[i] > avg[i]:\n",
    "                flag = 0\n",
    "                profit += prices[i] - current_price\n",
    "        elif flag == -1:\n",
    "            if prices[i] < avg[i]:\n",
    "                flag = 0\n",
    "                profit += current_price - prices[i]\n",
    "        list_of_profit.append(profit)\n",
    "    if flag == 1:\n",
    "        profit += prices[-1] - current_price\n",
    "    elif flag == -1:\n",
    "        profit += current_price - prices[-1]\n",
    "    list_of_profit.append(profit)\n",
    "    return list_of_profit\n",
    "\n",
    "def plot_profit(list_of_profit, period, k):\n",
    "    plt.plot(list_of_profit)\n",
    "    plt.title(f'Profit with period {period} and k {k}')\n",
    "    plt.xlabel('Time')\n",
    "    plt.ylabel('Profit')\n",
    "    plt.show()\n",
    "\n",
    "\n",
    "def better_model_than_benchmark(i,list_of_all_returns_np):\n",
    "    benchmark_returns = list_of_all_returns_np[:, i]\n",
    "    # everything else\n",
    "    stratergy_returns = np.delete(list_of_all_returns_np, i, axis=1)\n",
    "    benchmark_losses = -benchmark_returns\n",
    "    stratergy_losses = -stratergy_returns\n",
    "    spa = SPA(benchmark=benchmark_losses,\n",
    "        models=stratergy_losses,\n",
    "        reps=1000,\n",
    "        block_size=100,  \n",
    "        bootstrap=\"stationary\",\n",
    "        studentize=True,\n",
    "        nested=False,\n",
    "        seed=42\n",
    "    )\n",
    "    spa.compute()\n",
    "    return spa\n"
   ]
  },
  {
   "cell_type": "code",
   "execution_count": 15,
   "id": "c7f709d6",
   "metadata": {},
   "outputs": [],
   "source": [
    "list_of_profits_of_diff_strategies = []\n",
    "for period in list_of_period:\n",
    "    list_to_append = []\n",
    "    for k in list_of_k:\n",
    "        avg, upper_band, lower_band = get_bollinger_bands(closing_prices, period, k)\n",
    "        list_of_profit = profit_basic(closing_prices, avg, upper_band, lower_band)\n",
    "        # plot_profit(list_of_profit, period, k)\n",
    "        list_to_append.append(list_of_profit)\n",
    "    list_of_profits_of_diff_strategies.append(list_to_append)\n"
   ]
  },
  {
   "cell_type": "code",
   "execution_count": 16,
   "id": "085309e8",
   "metadata": {},
   "outputs": [],
   "source": [
    "reshaped_list_of_profits = []\n",
    "for i in range(3):\n",
    "    for j in range(6):\n",
    "        reshaped_list_of_profits.append(list_of_profits_of_diff_strategies[j][i])\n"
   ]
  },
  {
   "cell_type": "code",
   "execution_count": 17,
   "id": "8f70224b",
   "metadata": {},
   "outputs": [],
   "source": [
    "# find the returns of every minute of every strategy\n",
    "list_of_returns = []\n",
    "for i in range(len(reshaped_list_of_profits)):\n",
    "    list_of_returns.append(np.diff(reshaped_list_of_profits[i]))\n",
    "\n"
   ]
  },
  {
   "cell_type": "code",
   "execution_count": 18,
   "id": "70773192",
   "metadata": {},
   "outputs": [
    {
     "name": "stdout",
     "output_type": "stream",
     "text": [
      "Results of the first strategy\n",
      "\n"
     ]
    }
   ],
   "source": [
    "\n",
    "list_of_all_returns_np = np.array(list_of_returns).T\n",
    "\n",
    "spa = better_model_than_benchmark(0, list_of_all_returns_np)\n",
    "print(\"Results of the first strategy\")\n",
    "print()\n",
    "\n"
   ]
  },
  {
   "cell_type": "code",
   "execution_count": 19,
   "id": "6d7dba91",
   "metadata": {},
   "outputs": [
    {
     "name": "stdout",
     "output_type": "stream",
     "text": [
      "---- SPA Test Results ----\n",
      "Lower     p-value (liberal test):    0.009\n",
      "Consistent p-value (recommended):    0.009\n",
      "Upper     p-value (conservative):    0.009\n",
      "✅ At least one model is significantly better than the benchmark (at 5% level).\n",
      "Indices of better models (at 5% level): [ 4  8  9 10 14 15 16]\n"
     ]
    }
   ],
   "source": [
    "pvals = spa.pvalues\n",
    "print(\"---- SPA Test Results ----\")\n",
    "print(\"Lower     p-value (liberal test):   \", round(pvals[\"lower\"], 4))\n",
    "print(\"Consistent p-value (recommended):   \", round(pvals[\"consistent\"], 4))\n",
    "print(\"Upper     p-value (conservative):   \", round(pvals[\"upper\"], 4))\n",
    "\n",
    "# Interpretation\n",
    "if pvals[\"lower\"] < 0.05:\n",
    "    print(\"✅ At least one model is significantly better than the benchmark (at 5% level).\")\n",
    "else:\n",
    "    print(\"❌ No model significantly outperforms the benchmark (at 5% level).\")\n",
    "\n",
    "# Which models are better?\n",
    "better_model_indices = spa.better_models(pvalue=0.05, pvalue_type=\"lower\")\n",
    "print(\"Indices of better models (at 5% level):\", better_model_indices)\n"
   ]
  },
  {
   "cell_type": "code",
   "execution_count": 24,
   "id": "284afae3",
   "metadata": {},
   "outputs": [
    {
     "name": "stdout",
     "output_type": "stream",
     "text": [
      "[np.int64(-1), np.int64(5), np.int64(9), np.int64(10), np.int64(11), np.int64(15), np.int64(16), np.int64(17)]\n"
     ]
    }
   ],
   "source": []
  },
  {
   "cell_type": "code",
   "execution_count": 25,
   "id": "9121c5e4",
   "metadata": {},
   "outputs": [
    {
     "name": "stdout",
     "output_type": "stream",
     "text": [
      "\n",
      "Better models than benchmark (strategy 0):\n",
      "[np.int64(5), np.int64(9), np.int64(10), np.int64(11), np.int64(15), np.int64(16), np.int64(17)]\n",
      "\n",
      "Better models than benchmark (strategy 1):\n",
      "[]\n",
      "\n",
      "Better models than benchmark (strategy 2):\n",
      "[]\n",
      "\n",
      "Better models than benchmark (strategy 3):\n",
      "[]\n",
      "\n",
      "Better models than benchmark (strategy 4):\n",
      "[]\n",
      "\n",
      "Better models than benchmark (strategy 5):\n",
      "[]\n",
      "\n",
      "Better models than benchmark (strategy 6):\n",
      "[np.int64(10), np.int64(11), np.int64(15), np.int64(16), np.int64(17)]\n",
      "\n",
      "Better models than benchmark (strategy 7):\n",
      "[]\n",
      "\n",
      "Better models than benchmark (strategy 8):\n",
      "[]\n",
      "\n",
      "Better models than benchmark (strategy 9):\n",
      "[]\n",
      "\n",
      "Better models than benchmark (strategy 10):\n",
      "[]\n",
      "\n",
      "Better models than benchmark (strategy 11):\n",
      "[]\n",
      "\n",
      "Better models than benchmark (strategy 12):\n",
      "[np.int64(10), np.int64(11), np.int64(15), np.int64(16), np.int64(17)]\n",
      "\n",
      "Better models than benchmark (strategy 13):\n",
      "[]\n",
      "\n",
      "Better models than benchmark (strategy 14):\n",
      "[]\n",
      "\n",
      "Better models than benchmark (strategy 15):\n",
      "[]\n",
      "\n",
      "Better models than benchmark (strategy 16):\n",
      "[]\n"
     ]
    }
   ],
   "source": [
    "for i in range(len(reshaped_list_of_profits)-1):\n",
    "    spa = better_model_than_benchmark(i, list_of_all_returns_np)\n",
    "    print(f\"\\nBetter models than benchmark (strategy {i}):\")\n",
    "    result = spa.better_models(pvalue=0.05, pvalue_type=\"consistent\")\n",
    "    # add 1 to the result whose index is more than i and do nothing for the rest\n",
    "    result = [x + 1 if x > i else x for x in result]\n",
    "    print(result)\n",
    "\n",
    "\n",
    "        \n",
    "        "
   ]
  },
  {
   "cell_type": "markdown",
   "id": "a327fc0e",
   "metadata": {},
   "source": []
  },
  {
   "cell_type": "code",
   "execution_count": 26,
   "id": "945d30f8",
   "metadata": {},
   "outputs": [
    {
     "name": "stdout",
     "output_type": "stream",
     "text": [
      "\n",
      "Better models than benchmark (strategy 17):\n",
      "[]\n"
     ]
    }
   ],
   "source": [
    "spa = better_model_than_benchmark(17, list_of_all_returns_np)\n",
    "print(f\"\\nBetter models than benchmark (strategy 17):\")\n",
    "result = spa.better_models(pvalue=0.05, pvalue_type=\"consistent\")\n",
    "# add 1 to the result whose index is more than i and do nothing for the rest\n",
    "result = [x + 1 if x > 17 else x for x in result]\n",
    "print(result)"
   ]
  },
  {
   "cell_type": "code",
   "execution_count": 39,
   "id": "cebb5342",
   "metadata": {},
   "outputs": [],
   "source": [
    "from arch.bootstrap import MCS\n",
    "\n",
    "mcs = MCS(losses=list_of_all_returns_np,\n",
    "          size= 0.01,\n",
    "          reps=500,\n",
    "          block_size=10,\n",
    "          bootstrap=\"stationary\",\n",
    "          method=\"stationary\",\n",
    "          seed=42,\n",
    "          )\n",
    "mcs.compute()"
   ]
  },
  {
   "cell_type": "code",
   "execution_count": 40,
   "id": "7b57c3d6",
   "metadata": {},
   "outputs": [
    {
     "name": "stdout",
     "output_type": "stream",
     "text": [
      "✅ Models included in the 90% Model Confidence Set:\n",
      "[0, 1, 2, 3, 4, 5, 6, 7, 8, 9, 10, 11, 12, 13, 14, 15, 16, 17]\n",
      "\n",
      "❌ Models excluded from the 90% MCS:\n",
      "[]\n",
      "\n",
      "📊 P-values (higher = more likely to be in the MCS):\n",
      "             Pvalue\n",
      "Model index        \n",
      "0             1.000\n",
      "4             0.766\n",
      "12            0.766\n",
      "6             0.766\n",
      "3             0.766\n",
      "7             0.766\n",
      "2             0.766\n",
      "13            0.766\n",
      "8             0.766\n",
      "1             0.766\n",
      "5             0.754\n",
      "14            0.740\n",
      "9             0.740\n",
      "10            0.502\n",
      "11            0.502\n",
      "17            0.460\n",
      "15            0.386\n",
      "16            0.324\n"
     ]
    }
   ],
   "source": [
    "\n",
    "# Step 4: Print the results\n",
    "print(\"✅ Models included in the 90% Model Confidence Set:\")\n",
    "print(mcs.included)\n",
    "\n",
    "print(\"\\n❌ Models excluded from the 90% MCS:\")\n",
    "print(mcs.excluded)\n",
    "\n",
    "print(\"\\n📊 P-values (higher = more likely to be in the MCS):\")\n",
    "print(mcs.pvalues.sort_values(\"Pvalue\", ascending=False))"
   ]
  },
  {
   "cell_type": "code",
   "execution_count": 33,
   "id": "9f5b2b94",
   "metadata": {},
   "outputs": [
    {
     "name": "stdout",
     "output_type": "stream",
     "text": [
      "============================================================\n",
      "✅ Models INCLUDED in the 90% Model Confidence Set (MCS):\n",
      "------------------------------------------------------------\n",
      "  ✓ 0\n",
      "  ✓ 1\n",
      "  ✓ 2\n",
      "  ✓ 3\n",
      "  ✓ 4\n",
      "  ✓ 5\n",
      "  ✓ 6\n",
      "  ✓ 7\n",
      "  ✓ 8\n",
      "  ✓ 9\n",
      "  ✓ 10\n",
      "  ✓ 11\n",
      "  ✓ 12\n",
      "  ✓ 13\n",
      "  ✓ 14\n",
      "  ✓ 15\n",
      "  ✓ 16\n",
      "  ✓ 17\n",
      "\n",
      "============================================================\n",
      "❌ Models EXCLUDED from the 90% Model Confidence Set (MCS):\n",
      "------------------------------------------------------------\n",
      "\n",
      "============================================================\n",
      "📊 P-VALUES for all models (higher = more likely to be in the MCS):\n",
      "------------------------------------------------------------\n",
      "             Pvalue\n",
      "Model index        \n",
      "0             1.000\n",
      "4             0.766\n",
      "12            0.766\n",
      "6             0.766\n",
      "3             0.766\n",
      "7             0.766\n",
      "2             0.766\n",
      "13            0.766\n",
      "8             0.766\n",
      "1             0.766\n",
      "5             0.754\n",
      "14            0.740\n",
      "9             0.740\n",
      "10            0.502\n",
      "11            0.502\n",
      "17            0.460\n",
      "15            0.386\n",
      "16            0.324\n"
     ]
    }
   ],
   "source": [
    "# Step 4: Print the results\n",
    "print(\"=\" * 60)\n",
    "print(\"✅ Models INCLUDED in the 90% Model Confidence Set (MCS):\")\n",
    "print(\"-\" * 60)\n",
    "for model in mcs.included:\n",
    "    print(f\"  ✓ {model}\")\n",
    "\n",
    "print(\"\\n\" + \"=\" * 60)\n",
    "print(\"❌ Models EXCLUDED from the 90% Model Confidence Set (MCS):\")\n",
    "print(\"-\" * 60)\n",
    "for model in mcs.excluded:\n",
    "    print(f\"  ✗ {model}\")\n",
    "\n",
    "print(\"\\n\" + \"=\" * 60)\n",
    "print(\"📊 P-VALUES for all models (higher = more likely to be in the MCS):\")\n",
    "print(\"-\" * 60)\n",
    "print(mcs.pvalues.sort_values(\"Pvalue\", ascending=False).to_string())\n"
   ]
  }
 ],
 "metadata": {
  "kernelspec": {
   "display_name": ".venv",
   "language": "python",
   "name": "python3"
  },
  "language_info": {
   "codemirror_mode": {
    "name": "ipython",
    "version": 3
   },
   "file_extension": ".py",
   "mimetype": "text/x-python",
   "name": "python",
   "nbconvert_exporter": "python",
   "pygments_lexer": "ipython3",
   "version": "3.13.0"
  }
 },
 "nbformat": 4,
 "nbformat_minor": 5
}
