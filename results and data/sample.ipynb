{
 "cells": [
  {
   "cell_type": "code",
   "execution_count": 2,
   "id": "7215906f",
   "metadata": {},
   "outputs": [],
   "source": [
    "import numpy as np  \n",
    "import matplotlib.pyplot as plt\n",
    "import numpy as np\n",
    "import xlrd\n",
    "from arch.bootstrap import SPA\n",
    "\n",
    "from statsmodels.graphics.tsaplots import plot_acf, plot_pacf\n",
    "from statsmodels.tsa.stattools import adfuller\n",
    "from statsmodels.tsa.stattools import acf, pacf\n",
    "import warnings\n",
    "from statsmodels.tools.sm_exceptions import ConvergenceWarning\n",
    "from statsmodels.tsa.arima.model import ARIMA\n",
    "import pandas as pd\n",
    "from statsmodels.stats.diagnostic import acorr_ljungbox\n",
    "from statsmodels.stats.diagnostic import het_arch\n",
    "from statsmodels.stats.diagnostic import het_arch\n",
    "from arch import arch_model"
   ]
  },
  {
   "cell_type": "code",
   "execution_count": 3,
   "id": "ef07a9a6",
   "metadata": {},
   "outputs": [
    {
     "data": {
      "text/html": [
       "<div>\n",
       "<style scoped>\n",
       "    .dataframe tbody tr th:only-of-type {\n",
       "        vertical-align: middle;\n",
       "    }\n",
       "\n",
       "    .dataframe tbody tr th {\n",
       "        vertical-align: top;\n",
       "    }\n",
       "\n",
       "    .dataframe thead th {\n",
       "        text-align: right;\n",
       "    }\n",
       "</style>\n",
       "<table border=\"1\" class=\"dataframe\">\n",
       "  <thead>\n",
       "    <tr style=\"text-align: right;\">\n",
       "      <th></th>\n",
       "      <th>open</th>\n",
       "      <th>high</th>\n",
       "      <th>low</th>\n",
       "      <th>close</th>\n",
       "      <th>close_diff_percent</th>\n",
       "      <th>close_moving_avg</th>\n",
       "      <th>std</th>\n",
       "      <th>upper_bb</th>\n",
       "      <th>lower_bb</th>\n",
       "      <th>close_diff</th>\n",
       "      <th>close_scaled_down</th>\n",
       "    </tr>\n",
       "    <tr>\n",
       "      <th>DateTime</th>\n",
       "      <th></th>\n",
       "      <th></th>\n",
       "      <th></th>\n",
       "      <th></th>\n",
       "      <th></th>\n",
       "      <th></th>\n",
       "      <th></th>\n",
       "      <th></th>\n",
       "      <th></th>\n",
       "      <th></th>\n",
       "      <th></th>\n",
       "    </tr>\n",
       "  </thead>\n",
       "  <tbody>\n",
       "    <tr>\n",
       "      <th>2024-12-31 09:16:00</th>\n",
       "      <td>2355950</td>\n",
       "      <td>2356430</td>\n",
       "      <td>2354005</td>\n",
       "      <td>2355135</td>\n",
       "      <td>NaN</td>\n",
       "      <td>NaN</td>\n",
       "      <td>NaN</td>\n",
       "      <td>NaN</td>\n",
       "      <td>NaN</td>\n",
       "      <td>NaN</td>\n",
       "      <td>2355.135</td>\n",
       "    </tr>\n",
       "    <tr>\n",
       "      <th>2024-12-31 09:17:00</th>\n",
       "      <td>2355070</td>\n",
       "      <td>2356150</td>\n",
       "      <td>2354500</td>\n",
       "      <td>2355915</td>\n",
       "      <td>3.311912</td>\n",
       "      <td>NaN</td>\n",
       "      <td>NaN</td>\n",
       "      <td>NaN</td>\n",
       "      <td>NaN</td>\n",
       "      <td>780.0</td>\n",
       "      <td>2355.915</td>\n",
       "    </tr>\n",
       "    <tr>\n",
       "      <th>2024-12-31 09:18:00</th>\n",
       "      <td>2355980</td>\n",
       "      <td>2356025</td>\n",
       "      <td>2355100</td>\n",
       "      <td>2355405</td>\n",
       "      <td>-2.164764</td>\n",
       "      <td>NaN</td>\n",
       "      <td>NaN</td>\n",
       "      <td>NaN</td>\n",
       "      <td>NaN</td>\n",
       "      <td>-510.0</td>\n",
       "      <td>2355.405</td>\n",
       "    </tr>\n",
       "    <tr>\n",
       "      <th>2024-12-31 09:19:00</th>\n",
       "      <td>2355400</td>\n",
       "      <td>2357195</td>\n",
       "      <td>2355215</td>\n",
       "      <td>2356905</td>\n",
       "      <td>6.368332</td>\n",
       "      <td>NaN</td>\n",
       "      <td>NaN</td>\n",
       "      <td>NaN</td>\n",
       "      <td>NaN</td>\n",
       "      <td>1500.0</td>\n",
       "      <td>2356.905</td>\n",
       "    </tr>\n",
       "    <tr>\n",
       "      <th>2024-12-31 09:20:00</th>\n",
       "      <td>2356960</td>\n",
       "      <td>2357015</td>\n",
       "      <td>2355475</td>\n",
       "      <td>2355475</td>\n",
       "      <td>-6.067279</td>\n",
       "      <td>NaN</td>\n",
       "      <td>NaN</td>\n",
       "      <td>NaN</td>\n",
       "      <td>NaN</td>\n",
       "      <td>-1430.0</td>\n",
       "      <td>2355.475</td>\n",
       "    </tr>\n",
       "  </tbody>\n",
       "</table>\n",
       "</div>"
      ],
      "text/plain": [
       "                        open     high      low    close  close_diff_percent  \\\n",
       "DateTime                                                                      \n",
       "2024-12-31 09:16:00  2355950  2356430  2354005  2355135                 NaN   \n",
       "2024-12-31 09:17:00  2355070  2356150  2354500  2355915            3.311912   \n",
       "2024-12-31 09:18:00  2355980  2356025  2355100  2355405           -2.164764   \n",
       "2024-12-31 09:19:00  2355400  2357195  2355215  2356905            6.368332   \n",
       "2024-12-31 09:20:00  2356960  2357015  2355475  2355475           -6.067279   \n",
       "\n",
       "                     close_moving_avg  std  upper_bb  lower_bb  close_diff  \\\n",
       "DateTime                                                                     \n",
       "2024-12-31 09:16:00               NaN  NaN       NaN       NaN         NaN   \n",
       "2024-12-31 09:17:00               NaN  NaN       NaN       NaN       780.0   \n",
       "2024-12-31 09:18:00               NaN  NaN       NaN       NaN      -510.0   \n",
       "2024-12-31 09:19:00               NaN  NaN       NaN       NaN      1500.0   \n",
       "2024-12-31 09:20:00               NaN  NaN       NaN       NaN     -1430.0   \n",
       "\n",
       "                     close_scaled_down  \n",
       "DateTime                                \n",
       "2024-12-31 09:16:00           2355.135  \n",
       "2024-12-31 09:17:00           2355.915  \n",
       "2024-12-31 09:18:00           2355.405  \n",
       "2024-12-31 09:19:00           2356.905  \n",
       "2024-12-31 09:20:00           2355.475  "
      ]
     },
     "execution_count": 3,
     "metadata": {},
     "output_type": "execute_result"
    }
   ],
   "source": [
    "# read the data from the csv file /home/vishi/bolinger/22-05cumul_ohlc_diff_percent.csv\n",
    "\n",
    "df = pd.read_csv('/home/vishi/bolinger/22-05cumul_ohlc_diff_percent.csv', index_col=0, parse_dates=True)\n",
    "df.head()"
   ]
  },
  {
   "cell_type": "code",
   "execution_count": 5,
   "id": "00312ec1",
   "metadata": {},
   "outputs": [
    {
     "data": {
      "text/plain": [
       "DateTime\n",
       "2025-01-31 15:11:00    2350.710\n",
       "2025-01-31 15:12:00    2350.855\n",
       "2025-01-31 15:13:00    2351.470\n",
       "2025-01-31 15:14:00    2351.020\n",
       "2025-01-31 15:15:00    2351.515\n",
       "2025-01-31 15:16:00    2350.920\n",
       "2025-01-31 15:17:00    2350.820\n",
       "2025-01-31 15:18:00    2350.055\n",
       "2025-01-31 15:19:00    2351.115\n",
       "2025-01-31 15:20:00    2351.570\n",
       "2025-01-31 15:21:00    2351.735\n",
       "2025-01-31 15:22:00    2351.825\n",
       "2025-01-31 15:23:00    2351.860\n",
       "2025-01-31 15:24:00    2351.925\n",
       "2025-01-31 15:25:00    2352.125\n",
       "2025-01-31 15:26:00    2351.945\n",
       "2025-01-31 15:27:00    2352.155\n",
       "2025-01-31 15:28:00    2353.040\n",
       "2025-01-31 15:29:00    2353.690\n",
       "2025-01-31 15:30:00    2353.385\n",
       "Name: close_scaled_down, dtype: float64"
      ]
     },
     "execution_count": 5,
     "metadata": {},
     "output_type": "execute_result"
    }
   ],
   "source": [
    "data = df[\"close_scaled_down\"].loc[\"2025-01-31 15:11\":\"2025-02-05\"]\n",
    "data.iloc[20-20:20]"
   ]
  },
  {
   "cell_type": "code",
   "execution_count": 3,
   "id": "e41dec89",
   "metadata": {},
   "outputs": [],
   "source": [
    "arr = np.array([1,2,3,4,5,6,7,8,9,10])"
   ]
  },
  {
   "cell_type": "code",
   "execution_count": 4,
   "id": "e932bd15",
   "metadata": {},
   "outputs": [
    {
     "name": "stdout",
     "output_type": "stream",
     "text": [
      "[4 3 8 6 9 7]\n"
     ]
    }
   ],
   "source": [
    "li = [3,2,7,5,8,6]\n",
    "print(arr[li])  # [4 3 8 6 9 7]"
   ]
  },
  {
   "cell_type": "code",
   "execution_count": 4,
   "id": "228847bc",
   "metadata": {},
   "outputs": [],
   "source": [
    "data = df.loc[ \"2024-12-31\": \"2025-02-01\"]"
   ]
  },
  {
   "cell_type": "code",
   "execution_count": 5,
   "id": "a4f0decc",
   "metadata": {},
   "outputs": [
    {
     "name": "stdout",
     "output_type": "stream",
     "text": [
      "                        open     high      low    close  close_diff_percent  \\\n",
      "DateTime                                                                      \n",
      "2025-02-01 15:26:00  2347145  2347205  2346765  2347005           -0.617770   \n",
      "2025-02-01 15:27:00  2347040  2348135  2346980  2347910            3.855978   \n",
      "2025-02-01 15:28:00  2347915  2348270  2347530  2347845           -0.276842   \n",
      "2025-02-01 15:29:00  2347875  2348820  2347875  2348590            3.173123   \n",
      "2025-02-01 15:30:00  2348630  2349975  2348030  2349530            4.002401   \n",
      "\n",
      "                     close_moving_avg         std      upper_bb      lower_bb  \\\n",
      "DateTime                                                                        \n",
      "2025-02-01 15:26:00        2347971.75  938.286898  2.349848e+06  2.346095e+06   \n",
      "2025-02-01 15:27:00        2347913.00  900.956217  2.349715e+06  2.346111e+06   \n",
      "2025-02-01 15:28:00        2347833.75  827.184309  2.349488e+06  2.346179e+06   \n",
      "2025-02-01 15:29:00        2347823.25  815.524170  2.349454e+06  2.346192e+06   \n",
      "2025-02-01 15:30:00        2347828.25  826.131242  2.349481e+06  2.346176e+06   \n",
      "\n",
      "                     close_diff  close_scaled_down  \n",
      "DateTime                                            \n",
      "2025-02-01 15:26:00      -145.0           2347.005  \n",
      "2025-02-01 15:27:00       905.0           2347.910  \n",
      "2025-02-01 15:28:00       -65.0           2347.845  \n",
      "2025-02-01 15:29:00       745.0           2348.590  \n",
      "2025-02-01 15:30:00       940.0           2349.530  \n"
     ]
    }
   ],
   "source": [
    "# print last 5 of data\n",
    "print(data.tail())\n"
   ]
  }
 ],
 "metadata": {
  "kernelspec": {
   "display_name": ".venv",
   "language": "python",
   "name": "python3"
  },
  "language_info": {
   "codemirror_mode": {
    "name": "ipython",
    "version": 3
   },
   "file_extension": ".py",
   "mimetype": "text/x-python",
   "name": "python",
   "nbconvert_exporter": "python",
   "pygments_lexer": "ipython3",
   "version": "3.13.0"
  }
 },
 "nbformat": 4,
 "nbformat_minor": 5
}
